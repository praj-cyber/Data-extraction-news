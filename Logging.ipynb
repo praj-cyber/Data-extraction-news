{
 "cells": [
  {
   "cell_type": "code",
   "execution_count": null,
   "id": "99d6b245",
   "metadata": {},
   "outputs": [],
   "source": [
    "import logging\n",
    "\n",
    "logging.basicConfig(level=logging.INFO)\n",
    "\n",
    "def parse_feed(feed_url):\n",
    "    try:\n",
    "        feed = feedparser.parse(feed_url)\n",
    "        if feed.bozo:  # Check for malformed feeds\n",
    "            logging.error(f\"Error parsing feed: {feed_url}\")\n",
    "            return []\n",
    "        return feed.entries\n",
    "    except Exception as e:\n",
    "        logging.error(f\"Error fetching feed {feed_url}: {str(e)}\")\n",
    "        return []"
   ]
  }
 ],
 "metadata": {
  "kernelspec": {
   "display_name": "Python 3 (ipykernel)",
   "language": "python",
   "name": "python3"
  },
  "language_info": {
   "codemirror_mode": {
    "name": "ipython",
    "version": 3
   },
   "file_extension": ".py",
   "mimetype": "text/x-python",
   "name": "python",
   "nbconvert_exporter": "python",
   "pygments_lexer": "ipython3",
   "version": "3.11.5"
  }
 },
 "nbformat": 4,
 "nbformat_minor": 5
}
